{
 "cells": [
  {
   "cell_type": "markdown",
   "metadata": {},
   "source": [
    "# Creating an Agent using Large Language Models (LLMs)\n",
    "\n",
    "**Goal:** Create a natural language interface for a simple API that reads / write to a redis cache as a proof of concept. \n",
    "\n",
    "Examples: \n",
    "1. Create a new record for a new user Ryan Skinner, locaed in Denver Colorado\n",
    "2. Retreieve a record for the user Ryan Skinner"
   ]
  },
  {
   "cell_type": "markdown",
   "metadata": {},
   "source": [
    "### Basic Configuration of the OpenAI Client"
   ]
  },
  {
   "cell_type": "code",
   "execution_count": 6,
   "metadata": {},
   "outputs": [],
   "source": [
    "import os\n",
    "import ssl\n",
    "import json\n",
    "\n",
    "from openai import OpenAI\n",
    "from ddtrace.llmobs import LLMObs\n",
    "\n",
    "from langchain_core.prompts import ChatPromptTemplate\n",
    "from langchain_openai import ChatOpenAI"
   ]
  },
  {
   "cell_type": "code",
   "execution_count": 7,
   "metadata": {},
   "outputs": [],
   "source": [
    "# Load the secrets\n",
    "with open(\"secrets.json\") as f:\n",
    "    secrets = json.load(f)\n",
    "DD_API_KEY = secrets[\"DD_API_KEY\"]\n",
    "DD_SITE = secrets[\"DD_SITE\"]\n",
    "OAI_API_KEY = secrets[\"OAI_API_KEY\"]\n",
    "\n",
    "# Enable the integration\n",
    "LLMObs.enable(\n",
    "    integrations_enabled=True, \n",
    "    ml_app=\"skinner-OAi-llm-agent\", \n",
    "    api_key = DD_API_KEY,\n",
    "    site = DD_SITE,\n",
    "    agentless_enabled = True,\n",
    "    env=\"test\",\n",
    "    service=\"llm-agent\"\n",
    ")\n",
    "\n",
    "# Establish the Client\n",
    "client = OpenAI(api_key=OAI_API_KEY)\n",
    "\n",
    "\n",
    "# Establish the LLM Client\n",
    "llm = ChatOpenAI(api_key=OAI_API_KEY)"
   ]
  },
  {
   "cell_type": "raw",
   "metadata": {
    "vscode": {
     "languageId": "raw"
    }
   },
   "source": [
    "# Testing if the Client Works\n",
    "completion = client.chat.completions.create(\n",
    "  model=\"gpt-4o-mini\",\n",
    "  messages=[\n",
    "    {\"role\": \"system\", \"content\": \"You are a poetic assistant, skilled in explaining complex programming concepts with\"\n",
    "                                  \" creative flair.\"},\n",
    "    {\"role\": \"user\", \"content\": \"Can you write a haiku about kubernetes\"}\n",
    "  ]\n",
    ")"
   ]
  },
  {
   "cell_type": "raw",
   "metadata": {},
   "source": [
    "print(completion.choices[0].message)"
   ]
  },
  {
   "cell_type": "markdown",
   "metadata": {},
   "source": [
    "## Prompt engineering to classify a users text"
   ]
  },
  {
   "cell_type": "code",
   "execution_count": 8,
   "metadata": {},
   "outputs": [
    {
     "name": "stdout",
     "output_type": "stream",
     "text": [
      "You are responsible for classifying a users request as the following \n",
      "    1. A request to add a user to the database \n",
      "    2. Update the user information to the database\n",
      "    3. Retrieve information about the user from the database\n",
      "\n",
      "The only valid responses are ADD, UPDATE, RETRIEVE, UNKNOWN\n",
      "\n",
      "If the user intends to add a user respond with ADD\n",
      "If the user intends to update user information in the database respond with UPDATE\n",
      "If the user inteds to retrieve information from the database respond with RETRIEVE\n",
      "If unknown or uncertain respond with UNKNOWN\n"
     ]
    }
   ],
   "source": [
    "system_prompt = \"You are responsible for classifying a users request as the following \\n\\\n",
    "    1. A request to add a user to the database \\n\\\n",
    "    2. Update the user information to the database\\n\\\n",
    "    3. Retrieve information about the user from the database\\n\\n\\\n",
    "The only valid responses are ADD, UPDATE, RETRIEVE, UNKNOWN\\n\\n\\\n",
    "If the user intends to add a user respond with ADD\\n\\\n",
    "If the user intends to update user information in the database respond with UPDATE\\n\\\n",
    "If the user inteds to retrieve information from the database respond with RETRIEVE\\n\\\n",
    "If unknown or uncertain respond with UNKNOWN\"\n",
    "print(system_prompt)"
   ]
  },
  {
   "cell_type": "code",
   "execution_count": 9,
   "metadata": {},
   "outputs": [],
   "source": [
    "prompt = ChatPromptTemplate.from_messages([\n",
    "    (\"system\", system_prompt),\n",
    "    (\"user\",\"{input}\")\n",
    "])"
   ]
  },
  {
   "cell_type": "code",
   "execution_count": 10,
   "metadata": {},
   "outputs": [
    {
     "data": {
      "text/plain": [
       "AIMessage(content='RETRIEVE', additional_kwargs={'refusal': None}, response_metadata={'token_usage': {'completion_tokens': 4, 'prompt_tokens': 136, 'total_tokens': 140}, 'model_name': 'gpt-3.5-turbo-0125', 'system_fingerprint': None, 'finish_reason': 'stop', 'logprobs': None}, id='run-d2948223-2125-4d1d-a6b4-c280646c6b4b-0', usage_metadata={'input_tokens': 136, 'output_tokens': 4, 'total_tokens': 140})"
      ]
     },
     "execution_count": 10,
     "metadata": {},
     "output_type": "execute_result"
    }
   ],
   "source": [
    "chain = prompt | llm\n",
    "chain.invoke(\"Where does Ryan live?\")"
   ]
  },
  {
   "cell_type": "markdown",
   "metadata": {},
   "source": [
    "# Creating a new user in the Database\n",
    "---\n",
    "If the initial classification response is `ADD` we'll want to prompt the user to supply information about the item that we'll add to the database. \n",
    "\n",
    "The API provided expects the following information (name, description, quantity, department, price, and tax): \n",
    "```\n",
    "class Item(BaseModel):\n",
    "    name: str\n",
    "    description: str | None = None\n",
    "    qty: int\n",
    "    department: str\n",
    "    price: float\n",
    "    tax: float\n",
    "```\n",
    "\n",
    "We'll expect the agent to parse out this information and create the JSON body for the request"
   ]
  },
  {
   "cell_type": "code",
   "execution_count": 21,
   "metadata": {},
   "outputs": [
    {
     "name": "stdout",
     "output_type": "stream",
     "text": [
      "You are an agent responsible for parsing a users request and creating a valid JSON response from the request.You are expected to extract the following information\n",
      "    1. name: The name of the item\n",
      "    2. description: The description of the item\n",
      "    3. qty: The quantity of the item available\n",
      "    4. department: the department the item belongs to\n",
      "    5. price: The price of the item\n",
      "    6. tax: The tax associated with the item\n",
      "\n",
      "For any field that you cannot confidently extra use 'None'\n",
      "\n",
      "Example Request: 'name - Coffee pot, description: Creates coffee, qty: 20, department: homegoods, price: $20, tax 8.25%\n",
      "You are expected to create a synatically valid JSON response with the provided information\n"
     ]
    }
   ],
   "source": [
    "add_user_prompt_txt = \"You are an agent responsible for parsing a users request and creating a valid JSON response from the request.You are expected to extract the following information\\n\\\n",
    "    1. name: The name of the item\\n\\\n",
    "    2. description: The description of the item\\n\\\n",
    "    3. qty: The quantity of the item available\\n\\\n",
    "    4. department: the department the item belongs to\\n\\\n",
    "    5. price: The price of the item\\n\\\n",
    "    6. tax: The tax associated with the item\\n\\n\\\n",
    "For any field that you cannot confidently extra use 'None'\\n\\n\\\n",
    "Example Request: 'name - Coffee pot, description: Creates coffee, qty: 20, department: homegoods, price: $20, tax 8.25%\\n\\\n",
    "You are expected to create a synatically valid JSON response with the provided information\"\n",
    "\n",
    "print(add_user_prompt_txt)"
   ]
  },
  {
   "cell_type": "code",
   "execution_count": 22,
   "metadata": {},
   "outputs": [],
   "source": [
    "add_user_prompt = ChatPromptTemplate.from_messages([\n",
    "    (\"system\",add_user_prompt_txt),\n",
    "    (\"user\",\"{input}\")\n",
    "])"
   ]
  },
  {
   "cell_type": "code",
   "execution_count": 23,
   "metadata": {},
   "outputs": [
    {
     "data": {
      "text/plain": [
       "AIMessage(content='{\\n    \"name\": \"Spoon\",\\n    \"description\": \"used to eat soup\",\\n    \"qty\": 10,\\n    \"department\": \"kitchen\",\\n    \"price\": \"$5\",\\n    \"tax\": \"None\"\\n}', additional_kwargs={'refusal': None}, response_metadata={'token_usage': {'completion_tokens': 49, 'prompt_tokens': 199, 'total_tokens': 248}, 'model_name': 'gpt-3.5-turbo-0125', 'system_fingerprint': None, 'finish_reason': 'stop', 'logprobs': None}, id='run-f5b4c43f-209c-46a7-848c-47357f3621ea-0', usage_metadata={'input_tokens': 199, 'output_tokens': 49, 'total_tokens': 248})"
      ]
     },
     "execution_count": 23,
     "metadata": {},
     "output_type": "execute_result"
    }
   ],
   "source": [
    "chain = add_user_prompt | llm\n",
    "chain.invoke(\"name is Spoon, description: used to eat soup, quantity: 10, department kitchen, price: $5\")"
   ]
  },
  {
   "cell_type": "code",
   "execution_count": null,
   "metadata": {},
   "outputs": [],
   "source": []
  }
 ],
 "metadata": {
  "kernelspec": {
   "display_name": ".venv",
   "language": "python",
   "name": "python3"
  },
  "language_info": {
   "codemirror_mode": {
    "name": "ipython",
    "version": 3
   },
   "file_extension": ".py",
   "mimetype": "text/x-python",
   "name": "python",
   "nbconvert_exporter": "python",
   "pygments_lexer": "ipython3",
   "version": "3.10.5"
  }
 },
 "nbformat": 4,
 "nbformat_minor": 2
}
